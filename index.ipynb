{
 "cells": [
  {
   "cell_type": "markdown",
   "metadata": {},
   "source": [
    "# Pivot Tables with Pandas - Lab\n",
    "\n",
    "## Introduction\n",
    "\n",
    "In this lab, we'll learn how to make use of our newfound knowledge of pivot tables to work with real-world data.  \n",
    "\n",
    "## Objectives\n",
    "\n",
    "In this lab you will:\n",
    "\n",
    "- Describe what is meant by long and wide format data \n",
    "- Use multi-hierarchical indexing to access aggregated data \n",
    "- Use pivot to create a more organized aggregated DataFrame \n",
    "- Use stack and unstack to move between different level of multi-indexing \n",
    "\n",
    "## Getting Started\n",
    "\n",
    "In the cell below:\n",
    "\n",
    "* Import `pandas` and set the standard alias   \n",
    "* Import `matplotlib.pyplot` and set the standard alias   \n",
    "* Run the iPython magic command to display matplotlib graphs inline within the notebook"
   ]
  },
  {
   "cell_type": "code",
   "execution_count": 2,
   "metadata": {},
   "outputs": [],
   "source": [
    "import pandas as pd\n",
    "import matplotlib.pyplot as plt\n",
    "%matplotlib inline"
   ]
  },
  {
   "cell_type": "markdown",
   "metadata": {},
   "source": [
    "## Load the data\n",
    "The data for this activity is stored in a file called `'causes_of_death.tsv'` which is a somewhat morbid dataset from the center for disease control. Note that the file extension .tsv indicates that this data is formatted slightly differently then the standard .csv, the difference being that it has 'tab separated values' instead of 'comma separated values'. As such, pass in the optional parameter `delimiter='\\t'` into the `pd.read_csv()` function."
   ]
  },
  {
   "cell_type": "code",
   "execution_count": 4,
   "metadata": {},
   "outputs": [],
   "source": [
    "df = pd.read_csv('causes_of_death.tsv',delimiter='\\t')"
   ]
  },
  {
   "cell_type": "markdown",
   "metadata": {},
   "source": [
    "Now, display the head of the DataFrame to ensure everything loaded correctly."
   ]
  },
  {
   "cell_type": "code",
   "execution_count": 5,
   "metadata": {},
   "outputs": [
    {
     "data": {
      "text/html": [
       "<div>\n",
       "<style scoped>\n",
       "    .dataframe tbody tr th:only-of-type {\n",
       "        vertical-align: middle;\n",
       "    }\n",
       "\n",
       "    .dataframe tbody tr th {\n",
       "        vertical-align: top;\n",
       "    }\n",
       "\n",
       "    .dataframe thead th {\n",
       "        text-align: right;\n",
       "    }\n",
       "</style>\n",
       "<table border=\"1\" class=\"dataframe\">\n",
       "  <thead>\n",
       "    <tr style=\"text-align: right;\">\n",
       "      <th></th>\n",
       "      <th>Notes</th>\n",
       "      <th>State</th>\n",
       "      <th>State Code</th>\n",
       "      <th>Ten-Year Age Groups</th>\n",
       "      <th>Ten-Year Age Groups Code</th>\n",
       "      <th>Gender</th>\n",
       "      <th>Gender Code</th>\n",
       "      <th>Race</th>\n",
       "      <th>Race Code</th>\n",
       "      <th>Deaths</th>\n",
       "      <th>Population</th>\n",
       "      <th>Crude Rate</th>\n",
       "    </tr>\n",
       "  </thead>\n",
       "  <tbody>\n",
       "    <tr>\n",
       "      <td>0</td>\n",
       "      <td>NaN</td>\n",
       "      <td>Alabama</td>\n",
       "      <td>1</td>\n",
       "      <td>&lt; 1 year</td>\n",
       "      <td>1</td>\n",
       "      <td>Female</td>\n",
       "      <td>F</td>\n",
       "      <td>American Indian or Alaska Native</td>\n",
       "      <td>1002-5</td>\n",
       "      <td>14</td>\n",
       "      <td>3579</td>\n",
       "      <td>Unreliable</td>\n",
       "    </tr>\n",
       "    <tr>\n",
       "      <td>1</td>\n",
       "      <td>NaN</td>\n",
       "      <td>Alabama</td>\n",
       "      <td>1</td>\n",
       "      <td>&lt; 1 year</td>\n",
       "      <td>1</td>\n",
       "      <td>Female</td>\n",
       "      <td>F</td>\n",
       "      <td>Asian or Pacific Islander</td>\n",
       "      <td>A-PI</td>\n",
       "      <td>24</td>\n",
       "      <td>7443</td>\n",
       "      <td>322.5</td>\n",
       "    </tr>\n",
       "    <tr>\n",
       "      <td>2</td>\n",
       "      <td>NaN</td>\n",
       "      <td>Alabama</td>\n",
       "      <td>1</td>\n",
       "      <td>&lt; 1 year</td>\n",
       "      <td>1</td>\n",
       "      <td>Female</td>\n",
       "      <td>F</td>\n",
       "      <td>Black or African American</td>\n",
       "      <td>2054-5</td>\n",
       "      <td>2093</td>\n",
       "      <td>169339</td>\n",
       "      <td>1236.0</td>\n",
       "    </tr>\n",
       "    <tr>\n",
       "      <td>3</td>\n",
       "      <td>NaN</td>\n",
       "      <td>Alabama</td>\n",
       "      <td>1</td>\n",
       "      <td>&lt; 1 year</td>\n",
       "      <td>1</td>\n",
       "      <td>Female</td>\n",
       "      <td>F</td>\n",
       "      <td>White</td>\n",
       "      <td>2106-3</td>\n",
       "      <td>2144</td>\n",
       "      <td>347921</td>\n",
       "      <td>616.2</td>\n",
       "    </tr>\n",
       "    <tr>\n",
       "      <td>4</td>\n",
       "      <td>NaN</td>\n",
       "      <td>Alabama</td>\n",
       "      <td>1</td>\n",
       "      <td>&lt; 1 year</td>\n",
       "      <td>1</td>\n",
       "      <td>Male</td>\n",
       "      <td>M</td>\n",
       "      <td>Asian or Pacific Islander</td>\n",
       "      <td>A-PI</td>\n",
       "      <td>33</td>\n",
       "      <td>7366</td>\n",
       "      <td>448.0</td>\n",
       "    </tr>\n",
       "  </tbody>\n",
       "</table>\n",
       "</div>"
      ],
      "text/plain": [
       "   Notes    State  State Code Ten-Year Age Groups Ten-Year Age Groups Code  \\\n",
       "0    NaN  Alabama           1            < 1 year                        1   \n",
       "1    NaN  Alabama           1            < 1 year                        1   \n",
       "2    NaN  Alabama           1            < 1 year                        1   \n",
       "3    NaN  Alabama           1            < 1 year                        1   \n",
       "4    NaN  Alabama           1            < 1 year                        1   \n",
       "\n",
       "   Gender Gender Code                              Race Race Code  Deaths  \\\n",
       "0  Female           F  American Indian or Alaska Native    1002-5      14   \n",
       "1  Female           F         Asian or Pacific Islander      A-PI      24   \n",
       "2  Female           F         Black or African American    2054-5    2093   \n",
       "3  Female           F                             White    2106-3    2144   \n",
       "4    Male           M         Asian or Pacific Islander      A-PI      33   \n",
       "\n",
       "  Population  Crude Rate  \n",
       "0       3579  Unreliable  \n",
       "1       7443       322.5  \n",
       "2     169339      1236.0  \n",
       "3     347921       616.2  \n",
       "4       7366       448.0  "
      ]
     },
     "execution_count": 5,
     "metadata": {},
     "output_type": "execute_result"
    }
   ],
   "source": [
    "df.head()"
   ]
  },
  {
   "cell_type": "markdown",
   "metadata": {},
   "source": [
    "Our data is currently in **_Wide_** format.  We can tidy this up by converting it to **_Long_** format by using groupby statements to aggregate our data into a much neater, more readable format. \n",
    "\n",
    "## Groupby aggregations\n",
    "\n",
    "Complete the following groupby statements.\n",
    "\n",
    "- Groupby `State` and `Gender`. Sum the values."
   ]
  },
  {
   "cell_type": "code",
   "execution_count": 6,
   "metadata": {},
   "outputs": [
    {
     "data": {
      "text/html": [
       "<div>\n",
       "<style scoped>\n",
       "    .dataframe tbody tr th:only-of-type {\n",
       "        vertical-align: middle;\n",
       "    }\n",
       "\n",
       "    .dataframe tbody tr th {\n",
       "        vertical-align: top;\n",
       "    }\n",
       "\n",
       "    .dataframe thead th {\n",
       "        text-align: right;\n",
       "    }\n",
       "</style>\n",
       "<table border=\"1\" class=\"dataframe\">\n",
       "  <thead>\n",
       "    <tr style=\"text-align: right;\">\n",
       "      <th></th>\n",
       "      <th></th>\n",
       "      <th>Notes</th>\n",
       "      <th>State Code</th>\n",
       "      <th>Deaths</th>\n",
       "    </tr>\n",
       "    <tr>\n",
       "      <th>State</th>\n",
       "      <th>Gender</th>\n",
       "      <th></th>\n",
       "      <th></th>\n",
       "      <th></th>\n",
       "    </tr>\n",
       "  </thead>\n",
       "  <tbody>\n",
       "    <tr>\n",
       "      <td rowspan=\"2\" valign=\"top\">Alabama</td>\n",
       "      <td>Female</td>\n",
       "      <td>0.0</td>\n",
       "      <td>40</td>\n",
       "      <td>430133</td>\n",
       "    </tr>\n",
       "    <tr>\n",
       "      <td>Male</td>\n",
       "      <td>0.0</td>\n",
       "      <td>41</td>\n",
       "      <td>430647</td>\n",
       "    </tr>\n",
       "    <tr>\n",
       "      <td rowspan=\"2\" valign=\"top\">Alaska</td>\n",
       "      <td>Female</td>\n",
       "      <td>0.0</td>\n",
       "      <td>80</td>\n",
       "      <td>27199</td>\n",
       "    </tr>\n",
       "    <tr>\n",
       "      <td>Male</td>\n",
       "      <td>0.0</td>\n",
       "      <td>84</td>\n",
       "      <td>36135</td>\n",
       "    </tr>\n",
       "    <tr>\n",
       "      <td>Arizona</td>\n",
       "      <td>Female</td>\n",
       "      <td>0.0</td>\n",
       "      <td>180</td>\n",
       "      <td>396028</td>\n",
       "    </tr>\n",
       "  </tbody>\n",
       "</table>\n",
       "</div>"
      ],
      "text/plain": [
       "                Notes  State Code  Deaths\n",
       "State   Gender                           \n",
       "Alabama Female    0.0          40  430133\n",
       "        Male      0.0          41  430647\n",
       "Alaska  Female    0.0          80   27199\n",
       "        Male      0.0          84   36135\n",
       "Arizona Female    0.0         180  396028"
      ]
     },
     "execution_count": 6,
     "metadata": {},
     "output_type": "execute_result"
    }
   ],
   "source": [
    "# Your code here\n",
    "df.groupby(['State','Gender']).sum().head()"
   ]
  },
  {
   "cell_type": "markdown",
   "metadata": {},
   "source": [
    "- Groupby `State`, `Gender`, and `Race`. Find the average values."
   ]
  },
  {
   "cell_type": "code",
   "execution_count": 7,
   "metadata": {},
   "outputs": [
    {
     "data": {
      "text/html": [
       "<div>\n",
       "<style scoped>\n",
       "    .dataframe tbody tr th:only-of-type {\n",
       "        vertical-align: middle;\n",
       "    }\n",
       "\n",
       "    .dataframe tbody tr th {\n",
       "        vertical-align: top;\n",
       "    }\n",
       "\n",
       "    .dataframe thead th {\n",
       "        text-align: right;\n",
       "    }\n",
       "</style>\n",
       "<table border=\"1\" class=\"dataframe\">\n",
       "  <thead>\n",
       "    <tr style=\"text-align: right;\">\n",
       "      <th></th>\n",
       "      <th></th>\n",
       "      <th></th>\n",
       "      <th>Notes</th>\n",
       "      <th>State Code</th>\n",
       "      <th>Deaths</th>\n",
       "    </tr>\n",
       "    <tr>\n",
       "      <th>State</th>\n",
       "      <th>Gender</th>\n",
       "      <th>Race</th>\n",
       "      <th></th>\n",
       "      <th></th>\n",
       "      <th></th>\n",
       "    </tr>\n",
       "  </thead>\n",
       "  <tbody>\n",
       "    <tr>\n",
       "      <td rowspan=\"5\" valign=\"top\">Alabama</td>\n",
       "      <td rowspan=\"4\" valign=\"top\">Female</td>\n",
       "      <td>American Indian or Alaska Native</td>\n",
       "      <td>NaN</td>\n",
       "      <td>1.0</td>\n",
       "      <td>70.875000</td>\n",
       "    </tr>\n",
       "    <tr>\n",
       "      <td>Asian or Pacific Islander</td>\n",
       "      <td>NaN</td>\n",
       "      <td>1.0</td>\n",
       "      <td>95.500000</td>\n",
       "    </tr>\n",
       "    <tr>\n",
       "      <td>Black or African American</td>\n",
       "      <td>NaN</td>\n",
       "      <td>1.0</td>\n",
       "      <td>9074.000000</td>\n",
       "    </tr>\n",
       "    <tr>\n",
       "      <td>White</td>\n",
       "      <td>NaN</td>\n",
       "      <td>1.0</td>\n",
       "      <td>29890.636364</td>\n",
       "    </tr>\n",
       "    <tr>\n",
       "      <td>Male</td>\n",
       "      <td>American Indian or Alaska Native</td>\n",
       "      <td>NaN</td>\n",
       "      <td>1.0</td>\n",
       "      <td>86.375000</td>\n",
       "    </tr>\n",
       "  </tbody>\n",
       "</table>\n",
       "</div>"
      ],
      "text/plain": [
       "                                                 Notes  State Code  \\\n",
       "State   Gender Race                                                  \n",
       "Alabama Female American Indian or Alaska Native    NaN         1.0   \n",
       "               Asian or Pacific Islander           NaN         1.0   \n",
       "               Black or African American           NaN         1.0   \n",
       "               White                               NaN         1.0   \n",
       "        Male   American Indian or Alaska Native    NaN         1.0   \n",
       "\n",
       "                                                       Deaths  \n",
       "State   Gender Race                                            \n",
       "Alabama Female American Indian or Alaska Native     70.875000  \n",
       "               Asian or Pacific Islander            95.500000  \n",
       "               Black or African American          9074.000000  \n",
       "               White                             29890.636364  \n",
       "        Male   American Indian or Alaska Native     86.375000  "
      ]
     },
     "execution_count": 7,
     "metadata": {},
     "output_type": "execute_result"
    }
   ],
   "source": [
    "# Your code here\n",
    "df.groupby(['State','Gender', 'Race']).mean().head()"
   ]
  },
  {
   "cell_type": "markdown",
   "metadata": {},
   "source": [
    "- Groupby `Gender` and `Race`. Find the minimum values."
   ]
  },
  {
   "cell_type": "code",
   "execution_count": 9,
   "metadata": {},
   "outputs": [
    {
     "data": {
      "text/html": [
       "<div>\n",
       "<style scoped>\n",
       "    .dataframe tbody tr th:only-of-type {\n",
       "        vertical-align: middle;\n",
       "    }\n",
       "\n",
       "    .dataframe tbody tr th {\n",
       "        vertical-align: top;\n",
       "    }\n",
       "\n",
       "    .dataframe thead th {\n",
       "        text-align: right;\n",
       "    }\n",
       "</style>\n",
       "<table border=\"1\" class=\"dataframe\">\n",
       "  <thead>\n",
       "    <tr style=\"text-align: right;\">\n",
       "      <th></th>\n",
       "      <th></th>\n",
       "      <th>Notes</th>\n",
       "      <th>State</th>\n",
       "      <th>State Code</th>\n",
       "      <th>Ten-Year Age Groups</th>\n",
       "      <th>Ten-Year Age Groups Code</th>\n",
       "      <th>Gender Code</th>\n",
       "      <th>Race Code</th>\n",
       "      <th>Deaths</th>\n",
       "      <th>Population</th>\n",
       "      <th>Crude Rate</th>\n",
       "    </tr>\n",
       "    <tr>\n",
       "      <th>Gender</th>\n",
       "      <th>Race</th>\n",
       "      <th></th>\n",
       "      <th></th>\n",
       "      <th></th>\n",
       "      <th></th>\n",
       "      <th></th>\n",
       "      <th></th>\n",
       "      <th></th>\n",
       "      <th></th>\n",
       "      <th></th>\n",
       "      <th></th>\n",
       "    </tr>\n",
       "  </thead>\n",
       "  <tbody>\n",
       "    <tr>\n",
       "      <td rowspan=\"4\" valign=\"top\">Female</td>\n",
       "      <td>American Indian or Alaska Native</td>\n",
       "      <td>NaN</td>\n",
       "      <td>Alabama</td>\n",
       "      <td>1</td>\n",
       "      <td>1-4 years</td>\n",
       "      <td>1</td>\n",
       "      <td>F</td>\n",
       "      <td>1002-5</td>\n",
       "      <td>10</td>\n",
       "      <td>100285</td>\n",
       "      <td>10.4</td>\n",
       "    </tr>\n",
       "    <tr>\n",
       "      <td>Asian or Pacific Islander</td>\n",
       "      <td>NaN</td>\n",
       "      <td>Alabama</td>\n",
       "      <td>1</td>\n",
       "      <td>1-4 years</td>\n",
       "      <td>1</td>\n",
       "      <td>F</td>\n",
       "      <td>A-PI</td>\n",
       "      <td>10</td>\n",
       "      <td>100371</td>\n",
       "      <td>10.1</td>\n",
       "    </tr>\n",
       "    <tr>\n",
       "      <td>Black or African American</td>\n",
       "      <td>NaN</td>\n",
       "      <td>Alabama</td>\n",
       "      <td>1</td>\n",
       "      <td>1-4 years</td>\n",
       "      <td>1</td>\n",
       "      <td>F</td>\n",
       "      <td>2054-5</td>\n",
       "      <td>10</td>\n",
       "      <td>100170</td>\n",
       "      <td>100.3</td>\n",
       "    </tr>\n",
       "    <tr>\n",
       "      <td>White</td>\n",
       "      <td>NaN</td>\n",
       "      <td>Alabama</td>\n",
       "      <td>1</td>\n",
       "      <td>1-4 years</td>\n",
       "      <td>1</td>\n",
       "      <td>F</td>\n",
       "      <td>2106-3</td>\n",
       "      <td>12</td>\n",
       "      <td>1000704</td>\n",
       "      <td>10.1</td>\n",
       "    </tr>\n",
       "    <tr>\n",
       "      <td>Male</td>\n",
       "      <td>American Indian or Alaska Native</td>\n",
       "      <td>NaN</td>\n",
       "      <td>Alabama</td>\n",
       "      <td>1</td>\n",
       "      <td>1-4 years</td>\n",
       "      <td>1</td>\n",
       "      <td>M</td>\n",
       "      <td>1002-5</td>\n",
       "      <td>10</td>\n",
       "      <td>1001</td>\n",
       "      <td>10000.0</td>\n",
       "    </tr>\n",
       "  </tbody>\n",
       "</table>\n",
       "</div>"
      ],
      "text/plain": [
       "                                         Notes    State  State Code  \\\n",
       "Gender Race                                                           \n",
       "Female American Indian or Alaska Native    NaN  Alabama           1   \n",
       "       Asian or Pacific Islander           NaN  Alabama           1   \n",
       "       Black or African American           NaN  Alabama           1   \n",
       "       White                               NaN  Alabama           1   \n",
       "Male   American Indian or Alaska Native    NaN  Alabama           1   \n",
       "\n",
       "                                        Ten-Year Age Groups  \\\n",
       "Gender Race                                                   \n",
       "Female American Indian or Alaska Native           1-4 years   \n",
       "       Asian or Pacific Islander                  1-4 years   \n",
       "       Black or African American                  1-4 years   \n",
       "       White                                      1-4 years   \n",
       "Male   American Indian or Alaska Native           1-4 years   \n",
       "\n",
       "                                        Ten-Year Age Groups Code Gender Code  \\\n",
       "Gender Race                                                                    \n",
       "Female American Indian or Alaska Native                        1           F   \n",
       "       Asian or Pacific Islander                               1           F   \n",
       "       Black or African American                               1           F   \n",
       "       White                                                   1           F   \n",
       "Male   American Indian or Alaska Native                        1           M   \n",
       "\n",
       "                                        Race Code  Deaths Population  \\\n",
       "Gender Race                                                            \n",
       "Female American Indian or Alaska Native    1002-5      10     100285   \n",
       "       Asian or Pacific Islander             A-PI      10     100371   \n",
       "       Black or African American           2054-5      10     100170   \n",
       "       White                               2106-3      12    1000704   \n",
       "Male   American Indian or Alaska Native    1002-5      10       1001   \n",
       "\n",
       "                                        Crude Rate  \n",
       "Gender Race                                         \n",
       "Female American Indian or Alaska Native       10.4  \n",
       "       Asian or Pacific Islander              10.1  \n",
       "       Black or African American             100.3  \n",
       "       White                                  10.1  \n",
       "Male   American Indian or Alaska Native    10000.0  "
      ]
     },
     "execution_count": 9,
     "metadata": {},
     "output_type": "execute_result"
    }
   ],
   "source": [
    "# Your code here\n",
    "df.groupby(['Gender','Race']).min().head()"
   ]
  },
  {
   "cell_type": "markdown",
   "metadata": {},
   "source": [
    "Create a bar chart of the total number of deaths by state: \n",
    "\n",
    "* Sort your columns in order (ascending or descending are both acceptable).  \n",
    "* Also make sure to include a title, axes labels and have your graph be an appropriate size.\n",
    "\n",
    "**_NOTE:_** In order to do this, slice the `Deaths` column after the `.groupby()` method, but before the `.sum()` method.  You can even chain the `.plot()` method on after the `.sum()` method and do this all on one line, excluding the labeling of the graph!"
   ]
  },
  {
   "cell_type": "code",
   "execution_count": 10,
   "metadata": {},
   "outputs": [
    {
     "data": {
      "text/plain": [
       "Text(0.5, 0, '# of Deaths')"
      ]
     },
     "execution_count": 10,
     "metadata": {},
     "output_type": "execute_result"
    },
    {
     "data": {
      "image/png": "[encoded data removed]",
      "text/plain": [
       "<Figure size 1080x576 with 1 Axes>"
      ]
     },
     "metadata": {
      "needs_background": "light"
     },
     "output_type": "display_data"
    }
   ],
   "source": [
    "# Your code here\n",
    "df.groupby(['State'])['Deaths'].sum().sort_values().plot(kind='barh', figsize=(15,8))\n",
    "plt.title('Total Deaths by State')\n",
    "plt.xlabel(\"# of Deaths\")"
   ]
  },
  {
   "cell_type": "markdown",
   "metadata": {},
   "source": [
    "### Inspecting our data\n",
    "\n",
    "Let's go one step further and print the data type of each column. \n",
    "\n",
    "In the cell below, use the `.info()` method of the DataFrame, and note the data type that each column is currently stored as.  "
   ]
  },
  {
   "cell_type": "code",
   "execution_count": 11,
   "metadata": {},
   "outputs": [
    {
     "name": "stdout",
     "output_type": "stream",
     "text": [
      "<class 'pandas.core.frame.DataFrame'>\n",
      "RangeIndex: 4115 entries, 0 to 4114\n",
      "Data columns (total 12 columns):\n",
      "Notes                       0 non-null float64\n",
      "State                       4115 non-null object\n",
      "State Code                  4115 non-null int64\n",
      "Ten-Year Age Groups         4115 non-null object\n",
      "Ten-Year Age Groups Code    4115 non-null object\n",
      "Gender                      4115 non-null object\n",
      "Gender Code                 4115 non-null object\n",
      "Race                        4115 non-null object\n",
      "Race Code                   4115 non-null object\n",
      "Deaths                      4115 non-null int64\n",
      "Population                  4115 non-null object\n",
      "Crude Rate                  4115 non-null object\n",
      "dtypes: float64(1), int64(2), object(9)\n",
      "memory usage: 385.9+ KB\n"
     ]
    }
   ],
   "source": [
    "df.info()"
   ]
  },
  {
   "cell_type": "markdown",
   "metadata": {},
   "source": [
    "Let's look at some samples from the `Population` column to see if the current encoding seems appropriate for the data it contains. \n",
    "\n",
    "In the cell below, display the population values for the first 5 rows in the DataFrame.  "
   ]
  },
  {
   "cell_type": "code",
   "execution_count": 12,
   "metadata": {},
   "outputs": [
    {
     "data": {
      "text/plain": [
       "0      3579\n",
       "1      7443\n",
       "2    169339\n",
       "3    347921\n",
       "4      7366\n",
       "Name: Population, dtype: object"
      ]
     },
     "execution_count": 12,
     "metadata": {},
     "output_type": "execute_result"
    }
   ],
   "source": [
    "df['Population'].head(5)"
   ]
  },
  {
   "cell_type": "markdown",
   "metadata": {},
   "source": [
    "Just to be extra sure, let's check the value counts to see how many times each unique value shows up in the dataset. We'll only look at the top 5. \n",
    "\n",
    "In the cell below, print out the top 5 `value_counts()` of the population column of the DataFrame. "
   ]
  },
  {
   "cell_type": "code",
   "execution_count": 13,
   "metadata": {},
   "outputs": [
    {
     "data": {
      "text/plain": [
       "Not Applicable    0.018226\n",
       "6420              0.000486\n",
       "2777              0.000486\n",
       "12217             0.000486\n",
       "14810             0.000486\n",
       "                    ...   \n",
       "1694179           0.000243\n",
       "34196             0.000243\n",
       "4639643           0.000243\n",
       "757441            0.000243\n",
       "61028             0.000243\n",
       "Name: Population, Length: 4009, dtype: float64"
      ]
     },
     "execution_count": 13,
     "metadata": {},
     "output_type": "execute_result"
    }
   ],
   "source": [
    "df['Population'].value_counts(5)"
   ]
  },
  {
   "cell_type": "markdown",
   "metadata": {},
   "source": [
    "Clearly, this data should be stored as a numeric type, not a categorical type.  \n",
    " \n",
    "### Reformat the `Population` column as an integer\n",
    "As it stands, not all values can be reformated as integers. Most of the cells in the `Population` column contain integer values, but the entire column is currently encoded in string format because some cells contain the string `'Not Applicable'`.\n",
    "\n",
    "We need to remove these rows before we can cast the `Population` column to an integer data type. \n",
    "\n",
    "In the cell below:\n",
    "\n",
    "* Slice the rows of `df` where the `Population` column is equal to `'Not Applicable'`  \n",
    "* Use `to_drop.index` to drop the offending rows from `df`. Be sure to set the `axis=0`, and `inplace=True`  \n",
    "* Cast the `Population` column to an integer data type using the `.astype()` method, with the single parameter `int64` passed in  \n",
    "* Print the `Population` column's `dtype` attribute to confirm it is now stored in `int64` format  \n",
    "\n",
    "\n",
    "**_NOTE:_** `.astype()` returns a copy of the column, so make sure you set the Population column equal to what this method returns--don't just call it!"
   ]
  },
  {
   "cell_type": "code",
   "execution_count": 14,
   "metadata": {},
   "outputs": [
    {
     "name": "stdout",
     "output_type": "stream",
     "text": [
      "int64\n"
     ]
    }
   ],
   "source": [
    "# Your code here\n",
    "to_drop = df[df['Population'] == 'Not Applicable']\n",
    "df.drop(to_drop.index, axis=0, inplace=True)\n",
    "df['Population'] = df['Population'].astype('int64')\n",
    "print(df['Population'].dtype)"
   ]
  },
  {
   "cell_type": "markdown",
   "metadata": {},
   "source": [
    "### Complete the bar chart\n",
    "\n",
    "Now that we've reformatted our data, let's create a bar chart of the mean `Population` by `State`. "
   ]
  },
  {
   "cell_type": "code",
   "execution_count": 15,
   "metadata": {},
   "outputs": [
    {
     "data": {
      "text/plain": [
       "<matplotlib.axes._subplots.AxesSubplot at 0x7f77d5648240>"
      ]
     },
     "execution_count": 15,
     "metadata": {},
     "output_type": "execute_result"
    },
    {
     "data": {
      "image/png": "[encoded data removed]",
      "text/plain": [
       "<Figure size 1080x576 with 1 Axes>"
      ]
     },
     "metadata": {
      "needs_background": "light"
     },
     "output_type": "display_data"
    }
   ],
   "source": [
    "# Your code here\n",
    "df.groupby('State')['Population'].mean().plot(kind='barh', figsize=(15,8))"
   ]
  },
  {
   "cell_type": "markdown",
   "metadata": {},
   "source": [
    "Below we will investigate how we can combine the `.pivot()` method along with the `.groupby()` method to combine some cool **stacked bar charts**!\n",
    "\n",
    "## Use aggregate methods\n",
    "\n",
    "In the cell below:\n",
    "\n",
    "* Group `df` by `'State'` and  `'Gender'`, and then slice both `'Deaths'` and `'Population'` from it. Chain the `.agg()` method to return the mean, min, max, and standard deviation of these sliced columns. \n",
    "\n",
    "**_NOTE:_** This only requires one line of code.  \n",
    "\n",
    "By now, you've probably caught on that the code required to do this follows this pattern:    `([things to group by])[columns to slice].agg([aggregates to return])`\n",
    "\n",
    "Then, display the `.head()` of this new DataFrame."
   ]
  },
  {
   "cell_type": "code",
   "execution_count": 16,
   "metadata": {},
   "outputs": [
    {
     "data": {
      "text/html": [
       "<div>\n",
       "<style scoped>\n",
       "    .dataframe tbody tr th:only-of-type {\n",
       "        vertical-align: middle;\n",
       "    }\n",
       "\n",
       "    .dataframe tbody tr th {\n",
       "        vertical-align: top;\n",
       "    }\n",
       "\n",
       "    .dataframe thead tr th {\n",
       "        text-align: left;\n",
       "    }\n",
       "\n",
       "    .dataframe thead tr:last-of-type th {\n",
       "        text-align: right;\n",
       "    }\n",
       "</style>\n",
       "<table border=\"1\" class=\"dataframe\">\n",
       "  <thead>\n",
       "    <tr>\n",
       "      <th></th>\n",
       "      <th></th>\n",
       "      <th colspan=\"4\" halign=\"left\">Deaths</th>\n",
       "      <th colspan=\"4\" halign=\"left\">Population</th>\n",
       "    </tr>\n",
       "    <tr>\n",
       "      <th></th>\n",
       "      <th></th>\n",
       "      <th>mean</th>\n",
       "      <th>min</th>\n",
       "      <th>max</th>\n",
       "      <th>std</th>\n",
       "      <th>mean</th>\n",
       "      <th>min</th>\n",
       "      <th>max</th>\n",
       "      <th>std</th>\n",
       "    </tr>\n",
       "    <tr>\n",
       "      <th>State</th>\n",
       "      <th>Gender</th>\n",
       "      <th></th>\n",
       "      <th></th>\n",
       "      <th></th>\n",
       "      <th></th>\n",
       "      <th></th>\n",
       "      <th></th>\n",
       "      <th></th>\n",
       "      <th></th>\n",
       "    </tr>\n",
       "  </thead>\n",
       "  <tbody>\n",
       "    <tr>\n",
       "      <td rowspan=\"2\" valign=\"top\">Alabama</td>\n",
       "      <td>Female</td>\n",
       "      <td>10753.325000</td>\n",
       "      <td>10</td>\n",
       "      <td>116297</td>\n",
       "      <td>24612.250487</td>\n",
       "      <td>1.078713e+06</td>\n",
       "      <td>2087</td>\n",
       "      <td>4334752</td>\n",
       "      <td>1.400309e+06</td>\n",
       "    </tr>\n",
       "    <tr>\n",
       "      <td>Male</td>\n",
       "      <td>10765.850000</td>\n",
       "      <td>10</td>\n",
       "      <td>88930</td>\n",
       "      <td>20813.538537</td>\n",
       "      <td>1.014946e+06</td>\n",
       "      <td>1129</td>\n",
       "      <td>4284775</td>\n",
       "      <td>1.397830e+06</td>\n",
       "    </tr>\n",
       "    <tr>\n",
       "      <td rowspan=\"2\" valign=\"top\">Alaska</td>\n",
       "      <td>Female</td>\n",
       "      <td>679.975000</td>\n",
       "      <td>13</td>\n",
       "      <td>4727</td>\n",
       "      <td>1154.870455</td>\n",
       "      <td>1.440403e+05</td>\n",
       "      <td>1224</td>\n",
       "      <td>682855</td>\n",
       "      <td>2.015793e+05</td>\n",
       "    </tr>\n",
       "    <tr>\n",
       "      <td>Male</td>\n",
       "      <td>860.357143</td>\n",
       "      <td>12</td>\n",
       "      <td>5185</td>\n",
       "      <td>1411.777392</td>\n",
       "      <td>1.518884e+05</td>\n",
       "      <td>578</td>\n",
       "      <td>770502</td>\n",
       "      <td>2.238843e+05</td>\n",
       "    </tr>\n",
       "    <tr>\n",
       "      <td>Arizona</td>\n",
       "      <td>Female</td>\n",
       "      <td>8998.386364</td>\n",
       "      <td>21</td>\n",
       "      <td>133923</td>\n",
       "      <td>26245.941003</td>\n",
       "      <td>1.246502e+06</td>\n",
       "      <td>12211</td>\n",
       "      <td>6265346</td>\n",
       "      <td>2.096632e+06</td>\n",
       "    </tr>\n",
       "  </tbody>\n",
       "</table>\n",
       "</div>"
      ],
      "text/plain": [
       "                      Deaths                              Population         \\\n",
       "                        mean min     max           std          mean    min   \n",
       "State   Gender                                                                \n",
       "Alabama Female  10753.325000  10  116297  24612.250487  1.078713e+06   2087   \n",
       "        Male    10765.850000  10   88930  20813.538537  1.014946e+06   1129   \n",
       "Alaska  Female    679.975000  13    4727   1154.870455  1.440403e+05   1224   \n",
       "        Male      860.357143  12    5185   1411.777392  1.518884e+05    578   \n",
       "Arizona Female   8998.386364  21  133923  26245.941003  1.246502e+06  12211   \n",
       "\n",
       "                                       \n",
       "                    max           std  \n",
       "State   Gender                         \n",
       "Alabama Female  4334752  1.400309e+06  \n",
       "        Male    4284775  1.397830e+06  \n",
       "Alaska  Female   682855  2.015793e+05  \n",
       "        Male     770502  2.238843e+05  \n",
       "Arizona Female  6265346  2.096632e+06  "
      ]
     },
     "execution_count": 16,
     "metadata": {},
     "output_type": "execute_result"
    }
   ],
   "source": [
    "# Your code here\n",
    "grouped = df.groupby(['State', 'Gender'])['Deaths', \n",
    "                                          'Population'].agg(['mean', \n",
    "                                                             'min', 'max', 'std'])\n",
    "grouped.head()"
   ]
  },
  {
   "cell_type": "markdown",
   "metadata": {},
   "source": [
    "Note how Pandas denotes a multi-hierarchical index in the DataFrame above.  \n",
    "\n",
    "Let's inspect how a multi-hierarchical index is actually stored.  \n",
    "\n",
    "In the cell below, display the `index` attribute of this DataFrame. "
   ]
  },
  {
   "cell_type": "code",
   "execution_count": 17,
   "metadata": {},
   "outputs": [
    {
     "data": {
      "text/plain": [
       "MultiIndex([(      'Alabama', 'Female'),\n",
       "            (      'Alabama',   'Male'),\n",
       "            (       'Alaska', 'Female'),\n",
       "            (       'Alaska',   'Male'),\n",
       "            (      'Arizona', 'Female'),\n",
       "            (      'Arizona',   'Male'),\n",
       "            (     'Arkansas', 'Female'),\n",
       "            (     'Arkansas',   'Male'),\n",
       "            (   'California', 'Female'),\n",
       "            (   'California',   'Male'),\n",
       "            ...\n",
       "            (     'Virginia', 'Female'),\n",
       "            (     'Virginia',   'Male'),\n",
       "            (   'Washington', 'Female'),\n",
       "            (   'Washington',   'Male'),\n",
       "            ('West Virginia', 'Female'),\n",
       "            ('West Virginia',   'Male'),\n",
       "            (    'Wisconsin', 'Female'),\n",
       "            (    'Wisconsin',   'Male'),\n",
       "            (      'Wyoming', 'Female'),\n",
       "            (      'Wyoming',   'Male')],\n",
       "           names=['State', 'Gender'], length=102)"
      ]
     },
     "execution_count": 17,
     "metadata": {},
     "output_type": "execute_result"
    }
   ],
   "source": [
    "grouped.index"
   ]
  },
  {
   "cell_type": "markdown",
   "metadata": {},
   "source": [
    "A two-dimensional array denotes the multiple levels, with each possible combination being a row in our `grouped` DataFrame.  \n",
    "\n",
    "Let's reset the index, and then see how it changes. \n",
    "\n",
    "In the cell below, call the DataFrame's `.reset_index()` method.  Then, display the `.head()` of the DataFrame.  "
   ]
  },
  {
   "cell_type": "code",
   "execution_count": 18,
   "metadata": {},
   "outputs": [
    {
     "data": {
      "text/html": [
       "<div>\n",
       "<style scoped>\n",
       "    .dataframe tbody tr th:only-of-type {\n",
       "        vertical-align: middle;\n",
       "    }\n",
       "\n",
       "    .dataframe tbody tr th {\n",
       "        vertical-align: top;\n",
       "    }\n",
       "\n",
       "    .dataframe thead tr th {\n",
       "        text-align: left;\n",
       "    }\n",
       "</style>\n",
       "<table border=\"1\" class=\"dataframe\">\n",
       "  <thead>\n",
       "    <tr>\n",
       "      <th></th>\n",
       "      <th>State</th>\n",
       "      <th>Gender</th>\n",
       "      <th colspan=\"4\" halign=\"left\">Deaths</th>\n",
       "      <th colspan=\"4\" halign=\"left\">Population</th>\n",
       "    </tr>\n",
       "    <tr>\n",
       "      <th></th>\n",
       "      <th></th>\n",
       "      <th></th>\n",
       "      <th>mean</th>\n",
       "      <th>min</th>\n",
       "      <th>max</th>\n",
       "      <th>std</th>\n",
       "      <th>mean</th>\n",
       "      <th>min</th>\n",
       "      <th>max</th>\n",
       "      <th>std</th>\n",
       "    </tr>\n",
       "  </thead>\n",
       "  <tbody>\n",
       "    <tr>\n",
       "      <td>0</td>\n",
       "      <td>Alabama</td>\n",
       "      <td>Female</td>\n",
       "      <td>10753.325000</td>\n",
       "      <td>10</td>\n",
       "      <td>116297</td>\n",
       "      <td>24612.250487</td>\n",
       "      <td>1.078713e+06</td>\n",
       "      <td>2087</td>\n",
       "      <td>4334752</td>\n",
       "      <td>1.400309e+06</td>\n",
       "    </tr>\n",
       "    <tr>\n",
       "      <td>1</td>\n",
       "      <td>Alabama</td>\n",
       "      <td>Male</td>\n",
       "      <td>10765.850000</td>\n",
       "      <td>10</td>\n",
       "      <td>88930</td>\n",
       "      <td>20813.538537</td>\n",
       "      <td>1.014946e+06</td>\n",
       "      <td>1129</td>\n",
       "      <td>4284775</td>\n",
       "      <td>1.397830e+06</td>\n",
       "    </tr>\n",
       "    <tr>\n",
       "      <td>2</td>\n",
       "      <td>Alaska</td>\n",
       "      <td>Female</td>\n",
       "      <td>679.975000</td>\n",
       "      <td>13</td>\n",
       "      <td>4727</td>\n",
       "      <td>1154.870455</td>\n",
       "      <td>1.440403e+05</td>\n",
       "      <td>1224</td>\n",
       "      <td>682855</td>\n",
       "      <td>2.015793e+05</td>\n",
       "    </tr>\n",
       "    <tr>\n",
       "      <td>3</td>\n",
       "      <td>Alaska</td>\n",
       "      <td>Male</td>\n",
       "      <td>860.357143</td>\n",
       "      <td>12</td>\n",
       "      <td>5185</td>\n",
       "      <td>1411.777392</td>\n",
       "      <td>1.518884e+05</td>\n",
       "      <td>578</td>\n",
       "      <td>770502</td>\n",
       "      <td>2.238843e+05</td>\n",
       "    </tr>\n",
       "    <tr>\n",
       "      <td>4</td>\n",
       "      <td>Arizona</td>\n",
       "      <td>Female</td>\n",
       "      <td>8998.386364</td>\n",
       "      <td>21</td>\n",
       "      <td>133923</td>\n",
       "      <td>26245.941003</td>\n",
       "      <td>1.246502e+06</td>\n",
       "      <td>12211</td>\n",
       "      <td>6265346</td>\n",
       "      <td>2.096632e+06</td>\n",
       "    </tr>\n",
       "  </tbody>\n",
       "</table>\n",
       "</div>"
      ],
      "text/plain": [
       "     State  Gender        Deaths                              Population  \\\n",
       "                            mean min     max           std          mean   \n",
       "0  Alabama  Female  10753.325000  10  116297  24612.250487  1.078713e+06   \n",
       "1  Alabama    Male  10765.850000  10   88930  20813.538537  1.014946e+06   \n",
       "2   Alaska  Female    679.975000  13    4727   1154.870455  1.440403e+05   \n",
       "3   Alaska    Male    860.357143  12    5185   1411.777392  1.518884e+05   \n",
       "4  Arizona  Female   8998.386364  21  133923  26245.941003  1.246502e+06   \n",
       "\n",
       "                                 \n",
       "     min      max           std  \n",
       "0   2087  4334752  1.400309e+06  \n",
       "1   1129  4284775  1.397830e+06  \n",
       "2   1224   682855  2.015793e+05  \n",
       "3    578   770502  2.238843e+05  \n",
       "4  12211  6265346  2.096632e+06  "
      ]
     },
     "execution_count": 18,
     "metadata": {},
     "output_type": "execute_result"
    }
   ],
   "source": [
    "# First, reset the index. Notice the subtle difference; State and Gender are now columns rather than the index \n",
    "grouped = grouped.reset_index()\n",
    "grouped.head()"
   ]
  },
  {
   "cell_type": "markdown",
   "metadata": {},
   "source": [
    "Note how the way index is displayed has changed.  The index columns that made up the multi-hierarchical index before are now stored as columns of data, with each row given a more traditional numerical index. \n",
    "\n",
    "Let's confirm this by reexamining the `index` attribute of `grouped` in the cell below."
   ]
  },
  {
   "cell_type": "code",
   "execution_count": 19,
   "metadata": {},
   "outputs": [
    {
     "data": {
      "text/plain": [
       "RangeIndex(start=0, stop=102, step=1)"
      ]
     },
     "execution_count": 19,
     "metadata": {},
     "output_type": "execute_result"
    }
   ],
   "source": [
    "grouped.index"
   ]
  },
  {
   "cell_type": "markdown",
   "metadata": {},
   "source": [
    "However, look again at the displayed DataFrame -- specifically, the columns. Resetting the index has caused the DataFrame to use a multi-indexed structure for the columns. \n",
    "\n",
    "In the cell below, examine the `columns` attribute of `grouped` to confirm this. "
   ]
  },
  {
   "cell_type": "code",
   "execution_count": 20,
   "metadata": {},
   "outputs": [
    {
     "data": {
      "text/plain": [
       "MultiIndex([(     'State',     ''),\n",
       "            (    'Gender',     ''),\n",
       "            (    'Deaths', 'mean'),\n",
       "            (    'Deaths',  'min'),\n",
       "            (    'Deaths',  'max'),\n",
       "            (    'Deaths',  'std'),\n",
       "            ('Population', 'mean'),\n",
       "            ('Population',  'min'),\n",
       "            ('Population',  'max'),\n",
       "            ('Population',  'std')],\n",
       "           )"
      ]
     },
     "execution_count": 20,
     "metadata": {},
     "output_type": "execute_result"
    }
   ],
   "source": [
    "# Notice that this causes columns to be MultiIndexed!\n",
    "grouped.columns"
   ]
  },
  {
   "cell_type": "markdown",
   "metadata": {},
   "source": [
    "### Column levels\n",
    "\n",
    "Since we're working with multi-hierarchical indices, we can examine the indices available at each level.\n",
    "\n",
    "In the cell below, use the `.get_level_values()` method contained within the DataFrame's `columns` attribute to get the values for the outermost layer of the index. "
   ]
  },
  {
   "cell_type": "code",
   "execution_count": 22,
   "metadata": {},
   "outputs": [
    {
     "data": {
      "text/plain": [
       "Index(['State', 'Gender', 'Deaths', 'Deaths', 'Deaths', 'Deaths', 'Population',\n",
       "       'Population', 'Population', 'Population'],\n",
       "      dtype='object')"
      ]
     },
     "execution_count": 22,
     "metadata": {},
     "output_type": "execute_result"
    }
   ],
   "source": [
    "grouped.columns.get_level_values(0)"
   ]
  },
  {
   "cell_type": "markdown",
   "metadata": {},
   "source": [
    "Now, get the level values for the inner layer of the index. "
   ]
  },
  {
   "cell_type": "code",
   "execution_count": 23,
   "metadata": {},
   "outputs": [
    {
     "data": {
      "text/plain": [
       "Index(['', '', 'mean', 'min', 'max', 'std', 'mean', 'min', 'max', 'std'], dtype='object')"
      ]
     },
     "execution_count": 23,
     "metadata": {},
     "output_type": "execute_result"
    }
   ],
   "source": [
    "grouped.columns.get_level_values(1)"
   ]
  },
  {
   "cell_type": "markdown",
   "metadata": {},
   "source": [
    "## Flattening the DataFrame\n",
    "\n",
    "We can also **_flatten_** the DataFrame from a multi-hierarchical index to a more traditional one-dimensional index.  We do this by creating each unique combination possible of every level of the multi-hierarchical index.  Since this is a complex task, you do not need to write it -- but take some time to examine the code in the cell below and see if you can understand how it works! "
   ]
  },
  {
   "cell_type": "code",
   "execution_count": 24,
   "metadata": {},
   "outputs": [
    {
     "data": {
      "text/plain": [
       "Index(['State', 'Gender', 'Deaths_mean', 'Deaths_min', 'Deaths_max',\n",
       "       'Deaths_std', 'Population_mean', 'Population_min', 'Population_max',\n",
       "       'Population_std'],\n",
       "      dtype='object')"
      ]
     },
     "execution_count": 24,
     "metadata": {},
     "output_type": "execute_result"
    }
   ],
   "source": [
    "# We could also flatten these:\n",
    "cols0 = grouped.columns.get_level_values(0)\n",
    "cols1 = grouped.columns.get_level_values(1)\n",
    "grouped.columns = [col0 + '_' + col1 if col1 != '' else col0 for col0, col1 in list(zip(cols0, cols1))]\n",
    "# The list comprehension above is more complicated then what we need but creates a nicer formatting and\n",
    "# demonstrates using a conditional within a list comprehension.\n",
    "# This simpler version works but has some tail underscores where col1 is blank:\n",
    "# grouped.columns = [col0 + '_' + col1 for col0, col1 in list(zip(cols0, cols1))]\n",
    "grouped.columns"
   ]
  },
  {
   "cell_type": "markdown",
   "metadata": {},
   "source": [
    "Now that we've flattened the DataFrame, let's inspect a couple rows to see what it looks like. \n",
    "\n",
    "In the cell below, inspect the `.head()` of the `grouped` DataFrame. "
   ]
  },
  {
   "cell_type": "code",
   "execution_count": null,
   "metadata": {},
   "outputs": [],
   "source": [
    "grouped.head()"
   ]
  },
  {
   "cell_type": "markdown",
   "metadata": {},
   "source": [
    "## Using pivots\n",
    "\n",
    "Now, we'll gain some practice using the DataFrame's built-in `.pivot()` method.  \n",
    "\n",
    "In the cell below, call the DataFrame's `.pivot()` method with the following parameters:\n",
    "\n",
    "* index = `'State'`\n",
    "* columns = `'Gender'`\n",
    "* values = `'Deaths_mean'`\n",
    "\n",
    "Then, display the `.head()` of our new `pivot` DataFrame to see what it looks like. "
   ]
  },
  {
   "cell_type": "code",
   "execution_count": null,
   "metadata": {},
   "outputs": [],
   "source": [
    "# Now it's time to pivot!\n",
    "pivot = None"
   ]
  },
  {
   "cell_type": "markdown",
   "metadata": {},
   "source": [
    "Great! We've just created a pivot table.  \n",
    "\n",
    "Let's reset the index and see how it changes our pivot table. \n",
    "\n",
    "In the cell below, reset the index of the `pivot` object as we did previously.  Then, display the `.head()` of the object to see if we can detect any changes."
   ]
  },
  {
   "cell_type": "code",
   "execution_count": null,
   "metadata": {},
   "outputs": [],
   "source": [
    "# Again, notice the subtle difference of resetting the index:\n",
    "pivot = None"
   ]
  },
  {
   "cell_type": "markdown",
   "metadata": {},
   "source": [
    "### Visualizing Data With Pivot Tables\n",
    "\n",
    "Now, we'll make use of our newly created pivot table to quickly create some visualizations of our data.  \n",
    "\n",
    "In the cell below, call `pivot.plot()` with the following parameters:\n",
    "\n",
    "* kind = `'barh'`\n",
    "* figsize = `(15,8)`"
   ]
  },
  {
   "cell_type": "code",
   "execution_count": null,
   "metadata": {},
   "outputs": [],
   "source": [
    "# Now let's make a sweet bar chart!!\n"
   ]
  },
  {
   "cell_type": "markdown",
   "metadata": {},
   "source": [
    "Notice the Y-axis is currently just a list of numbers.  That's because when we reset the index, it defaulted to assigning integers as the index for the DataFrame.  Let's set the index back to `'State'`, and then recreate the visualization. \n",
    "\n",
    "In the cell below:\n",
    "\n",
    "* Use the `pivot` object's `.set_index()` method and set the index to `'State'`.  Then, chain this with a `.plot()` call to recreate the visualization using the code we used in the cell above.  \n",
    "\n",
    "All the code in this cell should be done in a single line.  Just call the methods -- do not rebind `pivot` to be equal to this line of code. "
   ]
  },
  {
   "cell_type": "code",
   "execution_count": null,
   "metadata": {},
   "outputs": [],
   "source": [
    "# Where's the states?! Notice the y-axis is just a list of numbers. \n",
    "# This is populated by the DataFrame's index.\n",
    "# When we used the .reset_index() method, we created a new numbered index to name each row. \n",
    "# Let's fix that by making state the index again.\n"
   ]
  },
  {
   "cell_type": "markdown",
   "metadata": {},
   "source": [
    "Now that we've created a visualization with the states as the y-axis, let's print out the head of the `pivot` object again. "
   ]
  },
  {
   "cell_type": "code",
   "execution_count": null,
   "metadata": {},
   "outputs": [],
   "source": [
    "# Also notice that if we call the DataFrame pivot again, state is not it's index.\n",
    "# The above method returned a DataFrame with State as index and we plotted it,\n",
    "# but it did not update the DataFrame itself.\n"
   ]
  },
  {
   "cell_type": "markdown",
   "metadata": {},
   "source": [
    "Note that the index has not changed.  That's because the code we wrote when we set the index to the `'State'` column returns a copy of the DataFrame object with the index set to `'State'` -- by default, it does not mutate original `pivot` object.  \n",
    "\n",
    "If we want to do that, we'll need to capture the new object returned by updating the contents of the `pivot` variable.  \n",
    "\n",
    "In the cell below, set the index of `pivot` to `'State'`.  Then, recreate the bar plot using this new object.  "
   ]
  },
  {
   "cell_type": "code",
   "execution_count": null,
   "metadata": {},
   "outputs": [],
   "source": [
    "# If we wanted to more permanently change the index we would set it first and then plot:\n",
    "pivot = None"
   ]
  },
  {
   "cell_type": "markdown",
   "metadata": {},
   "source": [
    "Again, let's check the `.head()` of the DataFrame to confirm that the index structure has changed.  "
   ]
  },
  {
   "cell_type": "code",
   "execution_count": null,
   "metadata": {},
   "outputs": [],
   "source": []
  },
  {
   "cell_type": "markdown",
   "metadata": {},
   "source": [
    "Finally, let's stack these bar charts to see how that looks. \n",
    "\n",
    "In the cell below, recreate the visualization we did in the cell above, but this time, also pass in `stacked=True` as a parameter. "
   ]
  },
  {
   "cell_type": "code",
   "execution_count": null,
   "metadata": {},
   "outputs": [],
   "source": [
    "# Lastly, let's stack each of these bars for each state.\n",
    "# Notice we don't have to worry about index here, because we've already set it above.\n"
   ]
  },
  {
   "cell_type": "markdown",
   "metadata": {},
   "source": [
    "## Stacking and Unstacking DataFrames\n",
    "\n",
    "Now, let's get some practice stacking and unstacking DataFrames. \n",
    "\n",
    "### Stacking\n",
    "\n",
    "In the cell below, let's display the head of `grouped` to remind ourselves of the format we left it in. "
   ]
  },
  {
   "cell_type": "code",
   "execution_count": null,
   "metadata": {},
   "outputs": [],
   "source": []
  },
  {
   "cell_type": "markdown",
   "metadata": {},
   "source": [
    "As we can see above, `grouped` is currently in a flattened format, with no hierarchical structure to it's indices.  \n",
    "\n",
    "In the cell below, call the `grouped` DataFrame's `.stack()` method. "
   ]
  },
  {
   "cell_type": "code",
   "execution_count": null,
   "metadata": {},
   "outputs": [],
   "source": []
  },
  {
   "cell_type": "markdown",
   "metadata": {},
   "source": [
    "As we can see, the `.stack()` method has stacked our DataFrame from a flattened format into one with a multi-hierarchical index! This is an easy, quick way to aggregate our data.\n",
    "\n",
    "### Unstacking \n",
    "\n",
    "Now, we'll explore unstacking with the `pivot` DataFrame, which is already stacked into a pivot table. \n",
    "\n",
    "In the cell below, set unstack `pivot` using the object's `.unstack()` method. Then, display the object to see how it has changed. "
   ]
  },
  {
   "cell_type": "code",
   "execution_count": null,
   "metadata": {},
   "outputs": [],
   "source": [
    "pivot = None"
   ]
  },
  {
   "cell_type": "markdown",
   "metadata": {},
   "source": [
    "Note that it has unstacked the multi-hierarchical structure of the `pivot` DataFrame by one level. Let's call it one more time and display the results!\n",
    "\n",
    "In the cell below, set `pivot` equal to `pivot.unstack()` again, and then print the `pivot` object to see how things have changed."
   ]
  },
  {
   "cell_type": "code",
   "execution_count": null,
   "metadata": {},
   "outputs": [],
   "source": [
    "pivot = None"
   ]
  },
  {
   "cell_type": "markdown",
   "metadata": {},
   "source": [
    "After calling unstack a second time, we can see that `pivot` has a flattened structure since it has been completely unstacked!\n",
    "\n",
    "## Summary\n",
    "\n",
    "In this lab, we learned how to:\n",
    "\n",
    "* Use `.groupby()` to stack and slice data conditionally\n",
    "* Use aggregate methods in combination with groupby statements\n",
    "* Create pivot tables with pandas\n",
    "* Leverage pivot tables and groupby statements to create quick visualizations\n",
    "* `stack` and `unstack` DataFrames "
   ]
  }
 ],
 "metadata": {
  "kernelspec": {
   "display_name": "Python 3",
   "language": "python",
   "name": "python3"
  },
  "language_info": {
   "codemirror_mode": {
    "name": "ipython",
    "version": 3
   },
   "file_extension": ".py",
   "mimetype": "text/x-python",
   "name": "python",
   "nbconvert_exporter": "python",
   "pygments_lexer": "ipython3",
   "version": "3.6.9"
  }
 },
 "nbformat": 4,
 "nbformat_minor": 2
}
